{
 "metadata": {
  "language_info": {
   "codemirror_mode": {
    "name": "ipython",
    "version": 3
   },
   "file_extension": ".py",
   "mimetype": "text/x-python",
   "name": "python",
   "nbconvert_exporter": "python",
   "pygments_lexer": "ipython3",
   "version": "3.7.4-final"
  },
  "orig_nbformat": 2,
  "kernelspec": {
   "name": "Python 3.7.4 32-bit",
   "display_name": "Python 3.7.4 32-bit",
   "metadata": {
    "interpreter": {
     "hash": "8e61c9422603e3d3820d3aeca1b8eefe471d1a1023a28a3903412dc32402bf43"
    }
   }
  }
 },
 "nbformat": 4,
 "nbformat_minor": 2,
 "cells": [
  {
   "cell_type": "code",
   "execution_count": 1,
   "metadata": {},
   "outputs": [],
   "source": [
    "import grtoolkit.Circuits as c\n",
    "import grtoolkit.Circuits.Capacitors as cc\n"
   ]
  },
  {
   "cell_type": "code",
   "execution_count": 2,
   "metadata": {},
   "outputs": [],
   "source": [
    "from sympy.abc import *\n",
    "from sympy import *"
   ]
  },
  {
   "cell_type": "code",
   "execution_count": 3,
   "metadata": {},
   "outputs": [],
   "source": [
    "from math import *\n",
    "from cmath import *"
   ]
  },
  {
   "cell_type": "code",
   "execution_count": 4,
   "metadata": {},
   "outputs": [],
   "source": [
    "def polar_deg_view(polar):\n",
    "    \"\"\"\n",
    "    Does not return actual polar as actual polar needs to be in radians. \n",
    "    For viewing ONLY.\n",
    "    \"\"\"\n",
    "    polar_fix = list()\n",
    "    polar_fix.append(polar[0])\n",
    "    polar_fix.append(degrees(polar[1]))\n",
    "    return polar_fix\n",
    "\n",
    "def polar2rect(r,phi=0):\n",
    "    \"\"\"Output: class <complex>\"\"\"\n",
    "    if isinstance(r,tuple):\n",
    "        return rect(r[0],r[1])\n",
    "    return rect(r,phi)\n",
    "\n",
    "def rect2polar(z):\n",
    "    \"\"\"\n",
    "    Polar cannot do math.\n",
    "    Output: class <tuple>\"\"\"\n",
    "    return polar(z)\n",
    "\n",
    "def cos2Phasor(A,phi):\n",
    "    return A, phi\n",
    "\n",
    "def sin2Phasor(A,phi):\n",
    "    if A < 0:\n",
    "        return cos2Phasor(-A, phi + radians(90))\n",
    "    else:\n",
    "        return A, phi-radians(90)\n"
   ]
  },
  {
   "cell_type": "code",
   "execution_count": 5,
   "metadata": {},
   "outputs": [],
   "source": [
    "# USE cmath? http://ibiblio.org/kuphaldt/socratic/model/mod_phasor.pdf\n",
    "# >>> from math import *\n",
    "# >>> from cmath import *\n",
    "# >>> r = complex(400,0)\n",
    "# >>> f = 60.0\n",
    "# >>> xc = 1/(2 * pi * f * 4.7e-6)\n",
    "# >>> zc = complex(0,-xc)\n",
    "# >>> xl = 2 * pi * f * 1.0\n",
    "# >>> zl = complex(0,xl)\n",
    "# >>> r + zc + zl\n",
    "# (400-187.38811239154882j)\n",
    "# >>> 1/(1/r + 1/zc + 1/zl)\n",
    "# (355.837695813625+125.35793777619385j)\n",
    "# >>> polar(r + zc + zl)\n",
    "# (441.717448903332, -0.4381072059213295)\n",
    "# >>> abs(r + zc + zl)\n",
    "# 441.717448903332\n",
    "# >>> phase(r + zc + zl)\n",
    "# -0.4381072059213295\n",
    "# >>> degrees(phase(r + zc + zl))\n",
    "# -25.10169387356105"
   ]
  },
  {
   "cell_type": "code",
   "execution_count": 6,
   "metadata": {},
   "outputs": [
    {
     "output_type": "execute_result",
     "data": {
      "text/plain": [
       "(43.03201246315035+20.641777724759123j)"
      ]
     },
     "metadata": {},
     "execution_count": 6
    }
   ],
   "source": [
    "a = rect(40,radians(50)) \n",
    "b = rect(20,radians(-30))\n",
    "c = a+b\n",
    "c"
   ]
  },
  {
   "cell_type": "code",
   "execution_count": 104,
   "metadata": {},
   "outputs": [],
   "source": [
    "class signal:\n",
    "    \"\"\"\n",
    "    Types: \"rect\" \"polar_rad\" \"polar_deg\" \n",
    "    https://docs.python.org/2/reference/datamodel.html#emulating-numeric-types\n",
    "    \"\"\"\n",
    "    def __init__(self, val=complex(0,0), type=\"rect\"):\n",
    "        \"\"\"\n",
    "        Types: \"rect\" \"polar_rad\" \"polar_deg\" \n",
    "        \"\"\"\n",
    "        # self.rect = None\n",
    "        # self.polar = None\n",
    "        # self.sinusoid = None\n",
    "        # pass\n",
    "        if type == \"rect\":\n",
    "            self.rect = val\n",
    "        elif type == \"polar_rad\":\n",
    "            self.polar_rad = val\n",
    "        elif type == \"polar_deg\":\n",
    "            self.polar_deg = val\n",
    "        else:\n",
    "            raise 'type must be: \"rect\" \"polar_rad\" \"polar_deg\"'\n",
    "\n",
    "    @property\n",
    "    def rect(self):\n",
    "        return self._rect\n",
    "    @rect.setter\n",
    "    def rect(self, val):\n",
    "        self._rect = val\n",
    "        self._polar_rad = rect2polar(self._rect)\n",
    "        self._polar_deg = polar_deg_view(self._polar_rad)\n",
    "\n",
    "    @property\n",
    "    def polar_rad(self):\n",
    "        return self._polar_rad\n",
    "    @polar_rad.setter\n",
    "    def polar_rad(self, val):\n",
    "        self._polar_rad = val\n",
    "        self._polar_deg = polar_deg_view(self._polar_rad)\n",
    "        self._rect = polar2rect(self._polar_rad)\n",
    "\n",
    "    @property\n",
    "    def polar_deg(self):\n",
    "        return self._polar_deg\n",
    "    @polar_deg.setter\n",
    "    def polar_deg(self, val):\n",
    "        self._polar_deg = val\n",
    "        self._polar_rad = polar_rad_view(self._polar_deg)\n",
    "        self._rect = polar2rect(self._polar_rad)\n",
    "\n",
    "    @property\n",
    "    def sinusoid(self):\n",
    "        return self._sinusoid\n",
    "    @sinusoid.setter\n",
    "    def sinusoid(self, val):\n",
    "        self._sinusoid = val\n",
    "\n",
    "\n",
    "    def __polar_deg_view(polar):\n",
    "        \"\"\"\n",
    "        Does not return actual polar as actual polar needs to be in radians. \n",
    "        For viewing ONLY.\n",
    "        \"\"\"\n",
    "        polar_fix = list()\n",
    "        polar_fix.append(polar[0])\n",
    "        polar_fix.append(degrees(polar[1]))\n",
    "        return polar_fix\n",
    "\n",
    "    def __polar_rad_view(polar):\n",
    "        \"\"\"\n",
    "        Does not return actual polar as actual polar needs to be in radians. \n",
    "        For viewing ONLY.\n",
    "        \"\"\"\n",
    "        polar_fix = list()\n",
    "        polar_fix.append(polar[0])\n",
    "        polar_fix.append(radians(polar[1]))\n",
    "        return polar_fix\n",
    "\n",
    "    def __polar2rect(r,phi=0):\n",
    "        \"\"\"\n",
    "        Output: class <complex>\n",
    "        \"\"\"\n",
    "        if isinstance(r,tuple):\n",
    "            return rect(r[0],r[1])\n",
    "        return rect(r,phi)\n",
    "\n",
    "    def __rect2polar(z):\n",
    "        \"\"\"\n",
    "        Polar cannot do math.\n",
    "        Output: class <tuple>\n",
    "        \"\"\"\n",
    "        return polar(z)\n",
    "\n",
    "    def cos2Phasor(A,phi):\n",
    "        if A < 0:\n",
    "            return cos2Phasor(-A, phi+radians(180))\n",
    "        else:\n",
    "            return A, phi\n",
    "    def sin2Phasor(A, phi):\n",
    "        if A < 0:\n",
    "            return sin2Phasor(-A, phi+radians(180))\n",
    "        else:\n",
    "            return A, phi-radians(90)\n",
    "\n",
    "    def __add__(self,other):\n",
    "        return signal(self._rect + other._rect)\n",
    "    def __radd__(self, other):\n",
    "        return self.__add__(other)\n",
    "\n",
    "\n",
    "    def __sub__(self,other):\n",
    "        return signal(self._rect - other._rect)\n",
    "    def __rsub__(self, other):\n",
    "        #Doesn't work?\n",
    "        return other - self._rect\n",
    "\n",
    "    def __mul__(self,other):\n",
    "        return signal(self._rect * other._rect)\n",
    "    def __rmul__(self, other):\n",
    "        return self.__mul__(other)\n",
    "\n",
    "    def __truediv__(self,other):\n",
    "        return signal(self._rect / other._rect)\n",
    "    def __rtruediv__(self,other):\n",
    "        # return signal(other / self._rect)\n",
    "        return other / self._rect\n"
   ]
  },
  {
   "cell_type": "code",
   "execution_count": 43,
   "metadata": {},
   "outputs": [
    {
     "output_type": "stream",
     "name": "stdout",
     "text": [
      "(6.4031242374328485, 0.8960553845713439)\n(12.041594578792296, 0.844153986113171)\n"
     ]
    },
    {
     "output_type": "execute_result",
     "data": {
      "text/plain": [
       "(0.5317505248607236, 0.05190139845817299)"
      ]
     },
     "metadata": {},
     "execution_count": 43
    }
   ],
   "source": [
    "z = signal()\n",
    "z.rect = complex(4,5)\n",
    "z.rect\n",
    "# z.sinusoid\n",
    "print(z.polar_rad)\n",
    "# y = complexEq()\n",
    "# y.rect = complex(26,11)\n",
    "y = signal(complex(8,9))\n",
    "print(y.polar_rad)\n",
    "# y.rect = complex(26,11)\n",
    "\n",
    "w = signal()\n",
    "\n",
    "t = z/y\n",
    "t.polar_rad"
   ]
  },
  {
   "cell_type": "code",
   "execution_count": 9,
   "metadata": {},
   "outputs": [],
   "source": [
    "def cos2Phasor(A,phi):\n",
    "    if A < 0:\n",
    "        return cos2Phasor(-A, phi+radians(180))\n",
    "    else:\n",
    "        return A, phi\n",
    "def sin2Phasor(A, phi):\n",
    "    if A < 0:\n",
    "        return sin2Phasor(-A, phi+radians(180))\n",
    "    else:\n",
    "        return A, phi-radians(90)"
   ]
  },
  {
   "cell_type": "code",
   "execution_count": 10,
   "metadata": {},
   "outputs": [
    {
     "output_type": "execute_result",
     "data": {
      "text/plain": [
       "(21, -0.2617993877991494)"
      ]
     },
     "metadata": {},
     "execution_count": 10
    }
   ],
   "source": [
    "# sin2Phasor(120,radians(-50))\n",
    "cos2Phasor(21,radians(-15))\n"
   ]
  },
  {
   "cell_type": "code",
   "execution_count": 110,
   "metadata": {},
   "outputs": [
    {
     "output_type": "execute_result",
     "data": {
      "text/plain": [
       "(1.5537739740300374+0.6435942529055827j)"
      ]
     },
     "metadata": {},
     "execution_count": 110
    }
   ],
   "source": [
    "complex(2,2)**.5"
   ]
  },
  {
   "cell_type": "code",
   "execution_count": null,
   "metadata": {},
   "outputs": [],
   "source": []
  }
 ]
}