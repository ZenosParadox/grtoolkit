{
 "metadata": {
  "language_info": {
   "codemirror_mode": {
    "name": "ipython",
    "version": 3
   },
   "file_extension": ".py",
   "mimetype": "text/x-python",
   "name": "python",
   "nbconvert_exporter": "python",
   "pygments_lexer": "ipython3",
   "version": "3.8.6-final"
  },
  "orig_nbformat": 2,
  "kernelspec": {
   "name": "Python 3.8.6 64-bit",
   "display_name": "Python 3.8.6 64-bit",
   "metadata": {
    "interpreter": {
     "hash": "a07021c5a7ba46a6a9df7371aa6ebeb5b3537da7d2334514ed5369e08f025e2c"
    }
   }
  }
 },
 "nbformat": 4,
 "nbformat_minor": 2,
 "cells": [
  {
   "cell_type": "code",
   "execution_count": 1,
   "metadata": {},
   "outputs": [],
   "source": [
    "import grtoolkit.Circuits as c\n",
    "import grtoolkit.Circuits.Capacitors as cc\n"
   ]
  },
  {
   "cell_type": "code",
   "execution_count": 2,
   "metadata": {},
   "outputs": [],
   "source": [
    "from sympy.abc import *\n",
    "from sympy import *"
   ]
  },
  {
   "cell_type": "code",
   "execution_count": 3,
   "metadata": {},
   "outputs": [
    {
     "output_type": "execute_result",
     "data": {
      "text/plain": [
       "40*exp_polar(0)"
      ],
      "text/latex": "$\\displaystyle 40 e^{0}$"
     },
     "metadata": {},
     "execution_count": 3
    }
   ],
   "source": [
    "polar_lift(40)"
   ]
  },
  {
   "cell_type": "code",
   "execution_count": 4,
   "metadata": {},
   "outputs": [],
   "source": [
    "# USE cmath? http://ibiblio.org/kuphaldt/socratic/model/mod_phasor.pdf\n",
    "# >>> from math import *\n",
    "# >>> from cmath import *\n",
    "# >>> r = complex(400,0)\n",
    "# >>> f = 60.0\n",
    "# >>> xc = 1/(2 * pi * f * 4.7e-6)\n",
    "# >>> zc = complex(0,-xc)\n",
    "# >>> xl = 2 * pi * f * 1.0\n",
    "# >>> zl = complex(0,xl)\n",
    "# >>> r + zc + zl\n",
    "# (400-187.38811239154882j)\n",
    "# >>> 1/(1/r + 1/zc + 1/zl)\n",
    "# (355.837695813625+125.35793777619385j)\n",
    "# >>> polar(r + zc + zl)\n",
    "# (441.717448903332, -0.4381072059213295)\n",
    "# >>> abs(r + zc + zl)\n",
    "# 441.717448903332\n",
    "# >>> phase(r + zc + zl)\n",
    "# -0.4381072059213295\n",
    "# >>> degrees(phase(r + zc + zl))\n",
    "# -25.10169387356105"
   ]
  },
  {
   "cell_type": "code",
   "execution_count": 5,
   "metadata": {},
   "outputs": [],
   "source": [
    "from math import *\n",
    "from cmath import *"
   ]
  },
  {
   "cell_type": "code",
   "execution_count": 6,
   "metadata": {},
   "outputs": [
    {
     "output_type": "error",
     "ename": "TypeError",
     "evalue": "rect expected 2 arguments, got 1",
     "traceback": [
      "\u001b[1;31m---------------------------------------------------------------------------\u001b[0m",
      "\u001b[1;31mTypeError\u001b[0m                                 Traceback (most recent call last)",
      "\u001b[1;32m<ipython-input-6-bb5197efe2e2>\u001b[0m in \u001b[0;36m<module>\u001b[1;34m\u001b[0m\n\u001b[0;32m      6\u001b[0m \u001b[0mxl\u001b[0m \u001b[1;33m=\u001b[0m \u001b[1;36m2\u001b[0m \u001b[1;33m*\u001b[0m \u001b[0mpi\u001b[0m \u001b[1;33m*\u001b[0m \u001b[0mf\u001b[0m \u001b[1;33m*\u001b[0m \u001b[1;36m1.0\u001b[0m\u001b[1;33m\u001b[0m\u001b[1;33m\u001b[0m\u001b[0m\n\u001b[0;32m      7\u001b[0m \u001b[0mzc\u001b[0m \u001b[1;33m=\u001b[0m \u001b[0mcomplex\u001b[0m\u001b[1;33m(\u001b[0m\u001b[1;36m0\u001b[0m\u001b[1;33m,\u001b[0m \u001b[0mxl\u001b[0m\u001b[1;33m)\u001b[0m\u001b[1;33m\u001b[0m\u001b[1;33m\u001b[0m\u001b[0m\n\u001b[1;32m----> 8\u001b[1;33m \u001b[0mrect\u001b[0m\u001b[1;33m(\u001b[0m\u001b[0mzc\u001b[0m\u001b[1;33m)\u001b[0m\u001b[1;33m\u001b[0m\u001b[1;33m\u001b[0m\u001b[0m\n\u001b[0m",
      "\u001b[1;31mTypeError\u001b[0m: rect expected 2 arguments, got 1"
     ]
    }
   ],
   "source": [
    "# from sympy.abc import f, w\n",
    "\n",
    "f=60\n",
    "r = complex(400)\n",
    "xc = 1/(2 * pi * f * 4.7e-6)\n",
    "xl = 2 * pi * f * 1.0\n",
    "zc = complex(0, xl)\n",
    "rect(zc)"
   ]
  },
  {
   "cell_type": "code",
   "execution_count": 13,
   "metadata": {},
   "outputs": [
    {
     "output_type": "execute_result",
     "data": {
      "text/plain": [
       "(43.03201246315035+20.641777724759123j)"
      ]
     },
     "metadata": {},
     "execution_count": 13
    }
   ],
   "source": [
    "a = rect(40,radians(50)) \n",
    "b = rect(20,radians(-30))\n",
    "c=a+b\n",
    "c"
   ]
  },
  {
   "cell_type": "code",
   "execution_count": 14,
   "metadata": {},
   "outputs": [
    {
     "output_type": "execute_result",
     "data": {
      "text/plain": [
       "25.62629957526139"
      ]
     },
     "metadata": {},
     "execution_count": 14
    }
   ],
   "source": [
    "d = polar(c)\n",
    "# degrees(c[1])\n",
    "degrees(d[1])"
   ]
  },
  {
   "cell_type": "code",
   "execution_count": 23,
   "metadata": {},
   "outputs": [
    {
     "output_type": "execute_result",
     "data": {
      "text/plain": [
       "0.4472633026907356"
      ]
     },
     "metadata": {},
     "execution_count": 23
    }
   ],
   "source": [
    "sqrt(c)\n",
    "# degrees(polar(sqrt(c))[1])\n",
    "d[1]"
   ]
  },
  {
   "cell_type": "code",
   "execution_count": 35,
   "metadata": {},
   "outputs": [],
   "source": [
    "def polar_deg_view(polar):\n",
    "    \"\"\"\n",
    "    Does not return actual polar as actual polar needs to be in radians. \n",
    "    For viewing ONLY.\n",
    "    \"\"\"\n",
    "    polar_fix = list()\n",
    "    polar_fix.append(polar[0])\n",
    "    polar_fix.append(degrees(polar[1]))\n",
    "    return polar_fix"
   ]
  },
  {
   "cell_type": "code",
   "execution_count": 38,
   "metadata": {},
   "outputs": [
    {
     "output_type": "stream",
     "name": "stdout",
     "text": [
      "(47.726691528609955, 0.4472633026907356)\n"
     ]
    },
    {
     "output_type": "execute_result",
     "data": {
      "text/plain": [
       "[47.726691528609955, 25.62629957526139]"
      ]
     },
     "metadata": {},
     "execution_count": 38
    }
   ],
   "source": [
    "print(d)\n",
    "polar_deg_view(d)"
   ]
  },
  {
   "cell_type": "code",
   "execution_count": 39,
   "metadata": {},
   "outputs": [
    {
     "output_type": "error",
     "ename": "TypeError",
     "evalue": "polar() takes exactly one argument (2 given)",
     "traceback": [
      "\u001b[1;31m---------------------------------------------------------------------------\u001b[0m",
      "\u001b[1;31mTypeError\u001b[0m                                 Traceback (most recent call last)",
      "\u001b[1;32m<ipython-input-39-a7d908765dc9>\u001b[0m in \u001b[0;36m<module>\u001b[1;34m\u001b[0m\n\u001b[1;32m----> 1\u001b[1;33m \u001b[0mrect\u001b[0m\u001b[1;33m(\u001b[0m\u001b[1;36m5\u001b[0m\u001b[1;33m,\u001b[0m\u001b[1;36m2\u001b[0m\u001b[1;33m)\u001b[0m\u001b[1;33m*\u001b[0m\u001b[0mrect\u001b[0m\u001b[1;33m(\u001b[0m\u001b[1;33m-\u001b[0m\u001b[1;36m1\u001b[0m\u001b[1;33m,\u001b[0m\u001b[1;36m4\u001b[0m\u001b[1;33m)\u001b[0m\u001b[1;33m-\u001b[0m\u001b[0mpolar\u001b[0m\u001b[1;33m(\u001b[0m\u001b[1;36m5\u001b[0m\u001b[1;33m,\u001b[0m\u001b[0mradians\u001b[0m\u001b[1;33m(\u001b[0m\u001b[1;36m60\u001b[0m\u001b[1;33m)\u001b[0m\u001b[1;33m)\u001b[0m\u001b[1;33m\u001b[0m\u001b[1;33m\u001b[0m\u001b[0m\n\u001b[0m",
      "\u001b[1;31mTypeError\u001b[0m: polar() takes exactly one argument (2 given)"
     ]
    }
   ],
   "source": [
    "rect(5,2)*rect(-1,4)-polar(5,radians(60))"
   ]
  },
  {
   "cell_type": "code",
   "execution_count": 45,
   "metadata": {},
   "outputs": [
    {
     "output_type": "execute_result",
     "data": {
      "text/plain": [
       "-15.5 - 13.6698729810778*I"
      ],
      "text/latex": "$\\displaystyle -15.5 - 13.6698729810778 i$"
     },
     "metadata": {},
     "execution_count": 45
    }
   ],
   "source": [
    "f = conjugate(complex(5,2)*complex(-1,4)-rect(5,radians(60)))\n",
    "f"
   ]
  },
  {
   "cell_type": "code",
   "execution_count": 47,
   "metadata": {},
   "outputs": [
    {
     "output_type": "execute_result",
     "data": {
      "text/plain": [
       "(8.293016090971093+7.200895127815735j)"
      ]
     },
     "metadata": {},
     "execution_count": 47
    }
   ],
   "source": [
    "e = (complex(10,5)+rect(3,radians(40)))/complex(-3,4)+rect(10,radians(30))+complex(0,5)\n",
    "e"
   ]
  },
  {
   "cell_type": "code",
   "execution_count": null,
   "metadata": {},
   "outputs": [],
   "source": []
  }
 ]
}