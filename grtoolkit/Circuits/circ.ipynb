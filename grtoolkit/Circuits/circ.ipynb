{
 "metadata": {
  "language_info": {
   "codemirror_mode": {
    "name": "ipython",
    "version": 3
   },
   "file_extension": ".py",
   "mimetype": "text/x-python",
   "name": "python",
   "nbconvert_exporter": "python",
   "pygments_lexer": "ipython3",
   "version": "3.8.6-final"
  },
  "orig_nbformat": 2,
  "kernelspec": {
   "name": "Python 3.8.6 64-bit",
   "display_name": "Python 3.8.6 64-bit",
   "metadata": {
    "interpreter": {
     "hash": "a07021c5a7ba46a6a9df7371aa6ebeb5b3537da7d2334514ed5369e08f025e2c"
    }
   }
  }
 },
 "nbformat": 4,
 "nbformat_minor": 2,
 "cells": [
  {
   "cell_type": "code",
   "execution_count": 6,
   "metadata": {},
   "outputs": [],
   "source": [
    "import grtoolkit.Circuits as c\n",
    "import grtoolkit.Circuits.Capacitors as cc\n"
   ]
  },
  {
   "cell_type": "code",
   "execution_count": 9,
   "metadata": {},
   "outputs": [],
   "source": [
    "from sympy.abc import *\n",
    "from sympy import *"
   ]
  },
  {
   "cell_type": "code",
   "execution_count": 10,
   "metadata": {},
   "outputs": [],
   "source": [
    "from math import *\n",
    "from cmath import *"
   ]
  },
  {
   "cell_type": "code",
   "execution_count": 64,
   "metadata": {},
   "outputs": [],
   "source": [
    "def polar_deg_view(polar):\n",
    "    \"\"\"\n",
    "    Does not return actual polar as actual polar needs to be in radians. \n",
    "    For viewing ONLY.\n",
    "    \"\"\"\n",
    "    polar_fix = list()\n",
    "    polar_fix.append(polar[0])\n",
    "    polar_fix.append(degrees(polar[1]))\n",
    "    return polar_fix\n",
    "\n",
    "def polar2rect(r,phi=0):\n",
    "    \"\"\"Output: class <complex>\"\"\"\n",
    "    if isinstance(r,tuple):\n",
    "        return rect(r[0],r[1])\n",
    "    return rect(r,phi)\n",
    "\n",
    "def rect2polar(z):\n",
    "    \"\"\"\n",
    "    Polar cannot do math.\n",
    "    Output: class <tuple>\"\"\"\n",
    "    return polar(z)\n",
    "\n",
    "\n"
   ]
  },
  {
   "cell_type": "code",
   "execution_count": 4,
   "metadata": {},
   "outputs": [],
   "source": [
    "# USE cmath? http://ibiblio.org/kuphaldt/socratic/model/mod_phasor.pdf\n",
    "# >>> from math import *\n",
    "# >>> from cmath import *\n",
    "# >>> r = complex(400,0)\n",
    "# >>> f = 60.0\n",
    "# >>> xc = 1/(2 * pi * f * 4.7e-6)\n",
    "# >>> zc = complex(0,-xc)\n",
    "# >>> xl = 2 * pi * f * 1.0\n",
    "# >>> zl = complex(0,xl)\n",
    "# >>> r + zc + zl\n",
    "# (400-187.38811239154882j)\n",
    "# >>> 1/(1/r + 1/zc + 1/zl)\n",
    "# (355.837695813625+125.35793777619385j)\n",
    "# >>> polar(r + zc + zl)\n",
    "# (441.717448903332, -0.4381072059213295)\n",
    "# >>> abs(r + zc + zl)\n",
    "# 441.717448903332\n",
    "# >>> phase(r + zc + zl)\n",
    "# -0.4381072059213295\n",
    "# >>> degrees(phase(r + zc + zl))\n",
    "# -25.10169387356105"
   ]
  },
  {
   "cell_type": "code",
   "execution_count": 12,
   "metadata": {},
   "outputs": [
    {
     "output_type": "execute_result",
     "data": {
      "text/plain": [
       "(43.03201246315035+20.641777724759123j)"
      ]
     },
     "metadata": {},
     "execution_count": 12
    }
   ],
   "source": [
    "a = rect(40,radians(50)) \n",
    "b = rect(20,radians(-30))\n",
    "c = a+b\n",
    "c"
   ]
  },
  {
   "cell_type": "code",
   "execution_count": 83,
   "metadata": {},
   "outputs": [],
   "source": [
    "class complexEq:\n",
    "    def __init__(self):\n",
    "        self.rect = None\n",
    "        self.polar = None\n",
    "        self.sinusoid = None\n",
    "\n",
    "    def polar_deg_view(polar):\n",
    "        \"\"\"\n",
    "        Does not return actual polar as actual polar needs to be in radians. \n",
    "        For viewing ONLY.\n",
    "        \"\"\"\n",
    "        polar_fix = list()\n",
    "        polar_fix.append(polar[0])\n",
    "        polar_fix.append(degrees(polar[1]))\n",
    "        return polar_fix\n",
    "\n",
    "    def polar2rect(r,phi=0):\n",
    "        \"\"\"\n",
    "        Output: class <complex>\n",
    "        \"\"\"\n",
    "        if isinstance(r,tuple):\n",
    "            return rect(r[0],r[1])\n",
    "        return rect(r,phi)\n",
    "\n",
    "    def rect2polar(z):\n",
    "        \"\"\"\n",
    "        Polar cannot do math.\n",
    "        Output: class <tuple>\n",
    "        \"\"\"\n",
    "        return polar(z)\n",
    "\n"
   ]
  },
  {
   "cell_type": "code",
   "execution_count": 85,
   "metadata": {},
   "outputs": [],
   "source": [
    "z = complexEq()\n",
    "z.rect = complex(5,4)"
   ]
  },
  {
   "cell_type": "code",
   "execution_count": 86,
   "metadata": {},
   "outputs": [
    {
     "output_type": "execute_result",
     "data": {
      "text/plain": [
       "(5+4j)"
      ]
     },
     "metadata": {},
     "execution_count": 86
    }
   ],
   "source": [
    "z.rect"
   ]
  },
  {
   "cell_type": "code",
   "execution_count": 87,
   "metadata": {},
   "outputs": [],
   "source": [
    "class SomeClass(object):\n",
    "    def __init__(self, n):\n",
    "        self.list = range(0, n)\n",
    "\n",
    "    @property\n",
    "    def list(self):\n",
    "        return self._list\n",
    "    @list.setter\n",
    "    def list(self, val):\n",
    "        self._list = val\n",
    "        self._listsquare = [x**2 for x in self._list ]\n",
    "\n",
    "    @property\n",
    "    def listsquare(self):\n",
    "        return self._listsquare\n",
    "    @listsquare.setter\n",
    "    def listsquare(self, val):\n",
    "        self.list = [int(pow(x, 0.5)) for x in val]"
   ]
  },
  {
   "cell_type": "code",
   "execution_count": 103,
   "metadata": {},
   "outputs": [
    {
     "output_type": "execute_result",
     "data": {
      "text/plain": [
       "[0, 1, 4, 9, 16]"
      ]
     },
     "metadata": {},
     "execution_count": 103
    }
   ],
   "source": [
    "blue = SomeClass(5)\n",
    "blue.listsquare"
   ]
  },
  {
   "cell_type": "code",
   "execution_count": 98,
   "metadata": {},
   "outputs": [
    {
     "output_type": "execute_result",
     "data": {
      "text/plain": [
       "range(0, 5)"
      ]
     },
     "metadata": {},
     "execution_count": 98
    }
   ],
   "source": [
    "blue.list"
   ]
  },
  {
   "cell_type": "code",
   "execution_count": 104,
   "metadata": {},
   "outputs": [],
   "source": [
    "class SampleClass:\n",
    "\n",
    "    def __init__(self, a):\n",
    "        ## private varibale or property in Python\n",
    "        self.__a = a\n",
    "\n",
    "    ## getter method to get the properties using an object\n",
    "    def get_a(self):\n",
    "        return self.__a\n",
    "\n",
    "    ## setter method to change the value 'a' using an object\n",
    "    def set_a(self, a):\n",
    "        self.__a = a"
   ]
  },
  {
   "cell_type": "code",
   "execution_count": 113,
   "metadata": {},
   "outputs": [
    {
     "output_type": "error",
     "ename": "AttributeError",
     "evalue": "'SampleClass' object has no attribute '__a'",
     "traceback": [
      "\u001b[1;31m---------------------------------------------------------------------------\u001b[0m",
      "\u001b[1;31mAttributeError\u001b[0m                            Traceback (most recent call last)",
      "\u001b[1;32m<ipython-input-113-fa8bb6fdc362>\u001b[0m in \u001b[0;36m<module>\u001b[1;34m\u001b[0m\n\u001b[0;32m      1\u001b[0m \u001b[0mg\u001b[0m \u001b[1;33m=\u001b[0m \u001b[0mSampleClass\u001b[0m\u001b[1;33m(\u001b[0m\u001b[1;36m45\u001b[0m\u001b[1;33m)\u001b[0m\u001b[1;33m\u001b[0m\u001b[1;33m\u001b[0m\u001b[0m\n\u001b[1;32m----> 2\u001b[1;33m \u001b[0mg\u001b[0m\u001b[1;33m.\u001b[0m\u001b[0m__a\u001b[0m\u001b[1;33m\u001b[0m\u001b[1;33m\u001b[0m\u001b[0m\n\u001b[0m\u001b[0;32m      3\u001b[0m \u001b[1;31m# g.get_a()\u001b[0m\u001b[1;33m\u001b[0m\u001b[1;33m\u001b[0m\u001b[1;33m\u001b[0m\u001b[0m\n",
      "\u001b[1;31mAttributeError\u001b[0m: 'SampleClass' object has no attribute '__a'"
     ]
    }
   ],
   "source": [
    "g = SampleClass(45)\n",
    "g.__a\n",
    "# g.get_a()"
   ]
  },
  {
   "cell_type": "code",
   "execution_count": null,
   "metadata": {},
   "outputs": [],
   "source": []
  }
 ]
}