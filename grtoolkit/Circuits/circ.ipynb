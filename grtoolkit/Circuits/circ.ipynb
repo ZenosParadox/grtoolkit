{
 "metadata": {
  "language_info": {
   "codemirror_mode": {
    "name": "ipython",
    "version": 3
   },
   "file_extension": ".py",
   "mimetype": "text/x-python",
   "name": "python",
   "nbconvert_exporter": "python",
   "pygments_lexer": "ipython3",
   "version": "3.7.4-final"
  },
  "orig_nbformat": 2,
  "kernelspec": {
   "name": "Python 3.7.4 32-bit",
   "display_name": "Python 3.7.4 32-bit",
   "metadata": {
    "interpreter": {
     "hash": "8e61c9422603e3d3820d3aeca1b8eefe471d1a1023a28a3903412dc32402bf43"
    }
   }
  }
 },
 "nbformat": 4,
 "nbformat_minor": 2,
 "cells": [
  {
   "cell_type": "code",
   "execution_count": 6,
   "metadata": {},
   "outputs": [],
   "source": [
    "import grtoolkit.Circuits as c\n",
    "import grtoolkit.Circuits.Capacitors as cc\n"
   ]
  },
  {
   "cell_type": "code",
   "execution_count": 1,
   "metadata": {},
   "outputs": [],
   "source": [
    "from sympy.abc import *\n",
    "from sympy import *"
   ]
  },
  {
   "cell_type": "code",
   "execution_count": 10,
   "metadata": {},
   "outputs": [],
   "source": [
    "from math import *\n",
    "from cmath import *"
   ]
  },
  {
   "cell_type": "code",
   "execution_count": 64,
   "metadata": {},
   "outputs": [],
   "source": [
    "def polar_deg_view(polar):\n",
    "    \"\"\"\n",
    "    Does not return actual polar as actual polar needs to be in radians. \n",
    "    For viewing ONLY.\n",
    "    \"\"\"\n",
    "    polar_fix = list()\n",
    "    polar_fix.append(polar[0])\n",
    "    polar_fix.append(degrees(polar[1]))\n",
    "    return polar_fix\n",
    "\n",
    "def polar2rect(r,phi=0):\n",
    "    \"\"\"Output: class <complex>\"\"\"\n",
    "    if isinstance(r,tuple):\n",
    "        return rect(r[0],r[1])\n",
    "    return rect(r,phi)\n",
    "\n",
    "def rect2polar(z):\n",
    "    \"\"\"\n",
    "    Polar cannot do math.\n",
    "    Output: class <tuple>\"\"\"\n",
    "    return polar(z)\n",
    "\n",
    "def cos2Phasor(A,phi):\n",
    "    return A, phi\n",
    "\n",
    "def sin2Phasor(A,phi):\n",
    "    if A < 0:\n",
    "        return cos2Phasor(-A, phi + radians(90))\n",
    "    else:\n",
    "        return A, phi-radians(90)\n"
   ]
  },
  {
   "cell_type": "code",
   "execution_count": 4,
   "metadata": {},
   "outputs": [],
   "source": [
    "# USE cmath? http://ibiblio.org/kuphaldt/socratic/model/mod_phasor.pdf\n",
    "# >>> from math import *\n",
    "# >>> from cmath import *\n",
    "# >>> r = complex(400,0)\n",
    "# >>> f = 60.0\n",
    "# >>> xc = 1/(2 * pi * f * 4.7e-6)\n",
    "# >>> zc = complex(0,-xc)\n",
    "# >>> xl = 2 * pi * f * 1.0\n",
    "# >>> zl = complex(0,xl)\n",
    "# >>> r + zc + zl\n",
    "# (400-187.38811239154882j)\n",
    "# >>> 1/(1/r + 1/zc + 1/zl)\n",
    "# (355.837695813625+125.35793777619385j)\n",
    "# >>> polar(r + zc + zl)\n",
    "# (441.717448903332, -0.4381072059213295)\n",
    "# >>> abs(r + zc + zl)\n",
    "# 441.717448903332\n",
    "# >>> phase(r + zc + zl)\n",
    "# -0.4381072059213295\n",
    "# >>> degrees(phase(r + zc + zl))\n",
    "# -25.10169387356105"
   ]
  },
  {
   "cell_type": "code",
   "execution_count": 12,
   "metadata": {},
   "outputs": [
    {
     "output_type": "execute_result",
     "data": {
      "text/plain": [
       "(43.03201246315035+20.641777724759123j)"
      ]
     },
     "metadata": {},
     "execution_count": 12
    }
   ],
   "source": [
    "a = rect(40,radians(50)) \n",
    "b = rect(20,radians(-30))\n",
    "c = a+b\n",
    "c"
   ]
  },
  {
   "cell_type": "code",
   "execution_count": 83,
   "metadata": {},
   "outputs": [],
   "source": [
    "class complexEq:\n",
    "    def __init__(self):\n",
    "        self.rect = None\n",
    "        self.polar = None\n",
    "        self.sinusoid = None\n",
    "\n",
    "    def polar_deg_view(polar):\n",
    "        \"\"\"\n",
    "        Does not return actual polar as actual polar needs to be in radians. \n",
    "        For viewing ONLY.\n",
    "        \"\"\"\n",
    "        polar_fix = list()\n",
    "        polar_fix.append(polar[0])\n",
    "        polar_fix.append(degrees(polar[1]))\n",
    "        return polar_fix\n",
    "\n",
    "    def polar2rect(r,phi=0):\n",
    "        \"\"\"\n",
    "        Output: class <complex>\n",
    "        \"\"\"\n",
    "        if isinstance(r,tuple):\n",
    "            return rect(r[0],r[1])\n",
    "        return rect(r,phi)\n",
    "\n",
    "    def rect2polar(z):\n",
    "        \"\"\"\n",
    "        Polar cannot do math.\n",
    "        Output: class <tuple>\n",
    "        \"\"\"\n",
    "        return polar(z)\n",
    "\n"
   ]
  },
  {
   "cell_type": "code",
   "execution_count": 85,
   "metadata": {},
   "outputs": [],
   "source": [
    "z = complexEq()\n",
    "z.rect = complex(5,4)"
   ]
  },
  {
   "cell_type": "code",
   "execution_count": 86,
   "metadata": {},
   "outputs": [
    {
     "output_type": "execute_result",
     "data": {
      "text/plain": [
       "(5+4j)"
      ]
     },
     "metadata": {},
     "execution_count": 86
    }
   ],
   "source": [
    "z.rect"
   ]
  },
  {
   "cell_type": "code",
   "execution_count": 87,
   "metadata": {},
   "outputs": [],
   "source": [
    "class SomeClass(object):\n",
    "    def __init__(self, n):\n",
    "        self.list = range(0, n)\n",
    "\n",
    "    @property\n",
    "    def list(self):\n",
    "        return self._list\n",
    "    @list.setter\n",
    "    def list(self, val):\n",
    "        self._list = val\n",
    "        self._listsquare = [x**2 for x in self._list ]\n",
    "\n",
    "    @property\n",
    "    def listsquare(self):\n",
    "        return self._listsquare\n",
    "    @listsquare.setter\n",
    "    def listsquare(self, val):\n",
    "        self.list = [int(pow(x, 0.5)) for x in val]"
   ]
  },
  {
   "cell_type": "code",
   "execution_count": 103,
   "metadata": {},
   "outputs": [
    {
     "output_type": "execute_result",
     "data": {
      "text/plain": [
       "[0, 1, 4, 9, 16]"
      ]
     },
     "metadata": {},
     "execution_count": 103
    }
   ],
   "source": [
    "blue = SomeClass(5)\n",
    "blue.listsquare"
   ]
  },
  {
   "cell_type": "code",
   "execution_count": 98,
   "metadata": {},
   "outputs": [
    {
     "output_type": "execute_result",
     "data": {
      "text/plain": [
       "range(0, 5)"
      ]
     },
     "metadata": {},
     "execution_count": 98
    }
   ],
   "source": [
    "blue.list"
   ]
  },
  {
   "cell_type": "code",
   "execution_count": 10,
   "metadata": {},
   "outputs": [],
   "source": [
    "class TheProperty:\n",
    "\n",
    "    def __init__(self, var):\n",
    "        ## initializing the attribute\n",
    "        self.a = var\n",
    "\n",
    "    @property\n",
    "    def a(self):\n",
    "        return self.__a\n",
    "\n",
    "    ## the attribute name and the method name must be same which is used to set the value for the attribute\n",
    "    @a.setter\n",
    "    def a(self, var):\n",
    "        if var > 0 and var % 2 == 0:\n",
    "            self.__a = var\n",
    "        else:\n",
    "            self.__a = 2"
   ]
  },
  {
   "cell_type": "code",
   "execution_count": 11,
   "metadata": {},
   "outputs": [
    {
     "output_type": "execute_result",
     "data": {
      "text/plain": [
       "2"
      ]
     },
     "metadata": {},
     "execution_count": 11
    }
   ],
   "source": [
    "bill = TheProperty(43)\n",
    "\n",
    "bill.a = 47\n",
    "\n",
    "bill.a"
   ]
  },
  {
   "cell_type": "code",
   "execution_count": null,
   "metadata": {},
   "outputs": [],
   "source": []
  }
 ]
}