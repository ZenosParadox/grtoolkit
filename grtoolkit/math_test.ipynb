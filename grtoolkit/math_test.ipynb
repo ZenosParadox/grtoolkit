{
 "nbformat": 4,
 "nbformat_minor": 2,
 "metadata": {
  "language_info": {
   "name": "python",
   "codemirror_mode": {
    "name": "ipython",
    "version": 3
   },
   "version": "3.8.6-final"
  },
  "orig_nbformat": 2,
  "file_extension": ".py",
  "mimetype": "text/x-python",
  "name": "python",
  "npconvert_exporter": "python",
  "pygments_lexer": "ipython3",
  "version": 3,
  "kernelspec": {
   "name": "Python 3.8.6 64-bit",
   "display_name": "Python 3.8.6 64-bit",
   "metadata": {
    "interpreter": {
     "hash": "a07021c5a7ba46a6a9df7371aa6ebeb5b3537da7d2334514ed5369e08f025e2c"
    }
   }
  }
 },
 "cells": [
  {
   "cell_type": "code",
   "execution_count": 1,
   "metadata": {},
   "outputs": [],
   "source": [
    "from grtoolkit.Math import *\n",
    "import re"
   ]
  },
  {
   "cell_type": "code",
   "execution_count": 3,
   "metadata": {},
   "outputs": [],
   "source": [
    "def gen_sorted_bracket_pairs(expr): #ordered bracket pairs\n",
    "    open_brackets = [m.start() for m in re.finditer('\\(', expr)]\n",
    "    close_brackets = [m.start() for m in re.finditer('\\)', expr)]\n",
    "    copyOpen = open_brackets\n",
    "    taken = list()\n",
    "    bracket_pairs = list()\n",
    "    \n",
    "    all_open_brackets = [[open,'o'] for open in open_brackets]\n",
    "    all_close_brackets = [[close,'c'] for close in close_brackets]\n",
    "    all_brackets = sorted(all_open_brackets + all_close_brackets)\n",
    "\n",
    "    for b in range(len(all_brackets)):\n",
    "        if all_brackets[b][1] == \"c\":\n",
    "            i = 1\n",
    "            while True:\n",
    "                if all_brackets[b-i][1] == \"o\" and b-i not in taken:\n",
    "                    bracket_pairs.append([all_brackets[b-i][0],all_brackets[b][0]])\n",
    "                    taken.append(b-i)\n",
    "                    break\n",
    "                i+=1\n",
    "    sorted_bracket_pairs = sorted(bracket_pairs)\n",
    "    # print(sorted(sorted_bracket_pairs)) ### BRACKET PAIRS\n",
    "    return sorted_bracket_pairs\n"
   ]
  },
  {
   "cell_type": "code",
   "execution_count": 4,
   "metadata": {},
   "outputs": [],
   "source": [
    "# test = \"(tomato{ went } down the ) (street)\"\n",
    "#note: bug in working with incomplete pairs of brackets\n",
    "# print(obp(test))\n",
    "\n",
    "# sorted_bracket_pairs = gen_sorted_bracket_pairs(expr)\n",
    "# print(sorted_bracket_pairs)"
   ]
  },
  {
   "cell_type": "code",
   "execution_count": 5,
   "metadata": {},
   "outputs": [],
   "source": [
    "def gen_func_bps(func_name, expr, sorted_bracket_pairs): #bracket pair after function namefunction opening and closing bracket pairs in str\n",
    "    funcs = [m.start() for m in re.finditer(func_name, expr)]\n",
    "    master_func_bracket_pairs = list()\n",
    "\n",
    "    for i in range(len(sorted_bracket_pairs)):\n",
    "    # print(bracket_pairs[i])\n",
    "        for func in funcs:\n",
    "            if func > sorted_bracket_pairs[i][0] and func < sorted_bracket_pairs[i+1][0]:\n",
    "                master_func_bracket_pairs.append(sorted_bracket_pairs[i+1])\n",
    "    return master_func_bracket_pairs"
   ]
  },
  {
   "cell_type": "code",
   "execution_count": 22,
   "metadata": {},
   "outputs": [],
   "source": [
    "def gen_func_sub_bps(func_bps,sorted_bracket_pairs): \n",
    "    \"\"\"function sub bracket pairs\"\"\"\n",
    "    #Find bracket pairs inside func_bps:\n",
    "    func_sub_bps = list()\n",
    "    for fbp in func_bps:\n",
    "        temp_sub_bps = list()\n",
    "        for bp in sorted_bracket_pairs:\n",
    "            if bp[0]>fbp[0] and bp[1]<fbp[1]:\n",
    "                temp_sub_bps.append(bp)\n",
    "        func_sub_bps.append(temp_sub_bps)\n",
    "    return func_sub_bps\n",
    "\n",
    "def gen_func_commas(expr, func_bps, func_sub_bps):\n",
    "    #Find commas inside function bracket pairs that are not inside function sub bracket pairs\n",
    "    commas = [m.start() for m in re.finditer(',', expr)]\n",
    "    func_commas = list()\n",
    "    ## for each comma:\n",
    "    i=0\n",
    "    for fbp in func_bps:\n",
    "        temp_comma = list()\n",
    "        for comma in commas:\n",
    "        ## if comma within function bracket pair:\n",
    "            if comma > fbp[0] and comma < fbp[1]: #if comma within function brackets\n",
    "                AND_counter = list()\n",
    "                for sfbp in func_sub_bps[i]: # if comma not within any bracket pair within function\n",
    "                    if comma < sfbp[0] or comma > sfbp[1]:  # is comma outside of this sub-bracket?\n",
    "                        AND_counter.append(1)\n",
    "                    else:\n",
    "                        AND_counter.append(0)\n",
    "                if sum(AND_counter) == len(AND_counter): # append comma only when outside all sub-brackets\n",
    "                    temp_comma.append(comma)\n",
    "        if comma:\n",
    "            func_commas.append(temp_comma)\n",
    "        i+=1\n",
    "    return func_commas\n",
    "\n",
    "def gen_ranges2protect(func_bps, func_comma):\n",
    "    #generating list of ranges to protect\n",
    "    zipped_list = list(zip(func_bps,func_comma))\n",
    "    ranges2protect = list()\n",
    "    i=0\n",
    "    for func, fcommas in zipped_list:\n",
    "        i=0\n",
    "        mini_r2p=list()\n",
    "        for fcomma in fcommas:\n",
    "            if (len(fcommas)-i)>1:\n",
    "                # print(expr[fcommas[i]+1:fcommas[i+1]])\n",
    "                mini_r2p.append([fcommas[i]+1, fcommas[i+1]])\n",
    "            else:\n",
    "                # print(expr[fcomma+1:func[1]])\n",
    "                mini_r2p.append([fcomma+1,func[1]])\n",
    "            i+=1\n",
    "        ranges2protect.append(mini_r2p)\n",
    "    return ranges2protect\n",
    "\n",
    "def gen_protect_zones_copy(expr, ranges2protect):\n",
    "    protect_zones_copy = list()\n",
    "    for a in ranges2protect:\n",
    "        for b in a:\n",
    "            # print(expr[b[0]:b[1]])\n",
    "            protect_zones_copy.append(expr[b[0]:b[1]])\n",
    "    return protect_zones_copy"
   ]
  },
  {
   "cell_type": "code",
   "execution_count": 25,
   "metadata": {},
   "outputs": [
    {
     "output_type": "stream",
     "name": "stdout",
     "text": [
      "['(v,v0,v1)', '(v,v0,v1)', '(v,v0,vt)', ' (v4,f3)', 'v']\n"
     ]
    }
   ],
   "source": [
    "expr = 'eq.append(\"Eq(w,integrate(C*v,(v,v0,v1))-integrate(C*v,(v,v0,v1))+integrate(8*diff(v**2,v),(v,v0,vt), (v4,f3)))\")'\n",
    "# print(preSympifySub(expr,v=\"99*red_ballons\"))\n",
    "# expr.find(\"integrate\")\n",
    "\n",
    "def gen_protect_zones(expr, func_list):\n",
    "    protect_zones = list()\n",
    "    for func in func_list:\n",
    "        sorted_bracket_pairs = gen_sorted_bracket_pairs(expr)\n",
    "        func_bps = gen_func_bps(func, expr, sorted_bracket_pairs)\n",
    "        func_sub_bps = gen_func_sub_bps(func_bps,sorted_bracket_pairs)\n",
    "        func_commas = gen_func_commas(expr, func_bps, func_sub_bps)\n",
    "        ranges2protect = gen_ranges2protect(func_bps, func_commas)\n",
    "        func_protect_zones = gen_protect_zones_copy(expr, ranges2protect)\n",
    "        protect_zones = protect_zones + func_protect_zones\n",
    "    return protect_zones\n",
    "\n",
    "protect_zones = gen_protect_zones(expr, [\"integrate\", \"diff\"])\n",
    "print(protect_zones)"
   ]
  },
  {
   "cell_type": "code",
   "execution_count": 35,
   "metadata": {},
   "outputs": [],
   "source": [
    "def preSympifySub(expr,**kwargs):\n",
    "    \"\"\"\n",
    "    Designed this as a reponse to the fact that sympify evaluates expressions when performed and therefore would integrate and/or differentiate before I would have a chance to perform substitution.\n",
    "    \n",
    "    Usage:\n",
    "        preSympifySub(r'Eq(v, L*diff(i,t))',i=\"10*t*exp(-5*t)\")\n",
    "    \"\"\"\n",
    "\n",
    "    for k,v in kwargs.items():\n",
    "        v=str(v)\n",
    "\n",
    "    protect_zones = gen_protect_zones(expr, [\"integrate\", \"diff\"])\n",
    "\n",
    "    for k,v in kwargs.items():\n",
    "        regex = rf'(?<!\\w|\\d){k}(?!\\w|\\d)'\n",
    "        expr = sub(regex,rf\"({str(v)})\",str(expr))\n",
    "\n",
    "    undue_replaced_zones = gen_protect_zones(expr, [\"integrate\", \"diff\"])\n",
    "\n",
    "    for protect, replaced in list(zip(protect_zones, undue_replaced_zones)):\n",
    "        expr = expr.replace(replaced,protect)\n",
    "\n",
    "    return expr\n",
    "\n",
    "    #Todo: replace keys with vals in eqns"
   ]
  },
  {
   "cell_type": "code",
   "execution_count": 38,
   "metadata": {},
   "outputs": [
    {
     "output_type": "stream",
     "name": "stdout",
     "text": [
      "eq.append(\"Eq(w,integrate(C*v,(v,v0,v1))-integrate(C*v,(v,v0,v1))+integrate(8*diff(v**2,v),(v,v0,vt), (v4,f3)))\")\n"
     ]
    },
    {
     "output_type": "execute_result",
     "data": {
      "text/plain": [
       "'eq.append(\"Eq(w,integrate(C*v,(v,v0,v1))-integrate(C*v,(v,v0,v1))+integrate(8*diff(v**2,v),(v,v0,vt), (v4,f3)))\")'"
      ]
     },
     "metadata": {},
     "execution_count": 38
    }
   ],
   "source": [
    "from re import sub\n",
    "\n",
    "print(expr)\n",
    "\n",
    "\n",
    "preSympifySub(expr,v=\"99*red_ballons\")"
   ]
  },
  {
   "cell_type": "code",
   "execution_count": null,
   "metadata": {},
   "outputs": [],
   "source": []
  }
 ]
}