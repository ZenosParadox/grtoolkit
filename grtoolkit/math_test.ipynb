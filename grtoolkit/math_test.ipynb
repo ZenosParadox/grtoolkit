{
 "nbformat": 4,
 "nbformat_minor": 2,
 "metadata": {
  "language_info": {
   "name": "python",
   "codemirror_mode": {
    "name": "ipython",
    "version": 3
   },
   "version": "3.7.4-final"
  },
  "orig_nbformat": 2,
  "file_extension": ".py",
  "mimetype": "text/x-python",
  "name": "python",
  "npconvert_exporter": "python",
  "pygments_lexer": "ipython3",
  "version": 3,
  "kernelspec": {
   "name": "python37432bit38a0c54453cf42c48b5cd8d326e2eb11",
   "display_name": "Python 3.7.4 32-bit"
  }
 },
 "cells": [
  {
   "cell_type": "code",
   "execution_count": 1,
   "metadata": {},
   "outputs": [],
   "source": [
    "from grtoolkit.Math import *\n",
    "import re"
   ]
  },
  {
   "cell_type": "code",
   "execution_count": 20,
   "metadata": {},
   "outputs": [
    {
     "data": {
      "text/plain": "16"
     },
     "execution_count": 20,
     "metadata": {},
     "output_type": "execute_result"
    }
   ],
   "source": [
    "expr = 'eq.append(\"Eq(w,integrate(C*v,(v,v0,v1))-integrate(C*v,(v,v0,v1)))\")'\n",
    "# print(preSympifySub(expr,v=\"99*red_ballons\"))\n",
    "\n",
    "expr.find(\"integrate\")\n"
   ]
  },
  {
   "cell_type": "code",
   "execution_count": 52,
   "metadata": {},
   "outputs": [],
   "source": [
    "# expr.find(\"(\")\n",
    "\n",
    "integrations = [m.start() for m in re.finditer('integrate', expr)]\n",
    "open_brackets = [m.start() for m in re.finditer('\\(', expr)]\n",
    "close_brackets = [m.start() for m in re.finditer('\\)', expr)]\n",
    "commas = [m.start() for m in re.finditer(',', expr)]\n",
    "# close_brackets = close_brackets[::-1]"
   ]
  },
  {
   "cell_type": "code",
   "execution_count": 53,
   "metadata": {},
   "outputs": [
    {
     "name": "stdout",
     "output_type": "stream",
     "text": "[16, 41]\n[9, 13, 25, 30, 50, 55]\n[38, 39, 63, 64, 65, 67]\n[15, 29, 32, 35, 54, 57, 60]\n[[9, 'o'], [13, 'o'], [25, 'o'], [30, 'o'], [38, 'c'], [39, 'c'], [50, 'o'], [55, 'o'], [63, 'c'], [64, 'c'], [65, 'c'], [67, 'c']]\n"
    }
   ],
   "source": [
    "print(integrations)\n",
    "print(open_brackets)\n",
    "print(close_brackets)\n",
    "print(commas)\n",
    "\n",
    "all_open_brackets = [[open,'o'] for open in open_brackets]\n",
    "all_close_brackets = [[close,'c'] for close in close_brackets]\n",
    "all_brackets = sorted(all_open_brackets + all_close_brackets)\n",
    "\n",
    "print(all_brackets)"
   ]
  },
  {
   "cell_type": "code",
   "execution_count": 37,
   "metadata": {},
   "outputs": [
    {
     "name": "stdout",
     "output_type": "stream",
     "text": "[[9, 67], [13, 65], [25, 39], [30, 38], [50, 64], [55, 63]]\n"
    }
   ],
   "source": [
    "copyOpen = open_brackets\n",
    "taken = list()\n",
    "bracket_pairs = list()\n",
    "\n",
    "\n",
    "for b in range(len(all_brackets)):\n",
    "    if all_brackets[b][1] == \"c\":\n",
    "        i = 1\n",
    "        while True:\n",
    "            if all_brackets[b-i][1] == \"o\" and b-i not in taken:\n",
    "                bracket_pairs.append([all_brackets[b-i][0],all_brackets[b][0]])\n",
    "                taken.append(b-i)\n",
    "                break\n",
    "            i+=1\n",
    "sorted_bracket_pairs = sorted(bracket_pairs)\n",
    "print(sorted(sorted_bracket_pairs))"
   ]
  },
  {
   "cell_type": "code",
   "execution_count": 50,
   "metadata": {},
   "outputs": [
    {
     "name": "stdout",
     "output_type": "stream",
     "text": "[[25, 39], [50, 64]]\n"
    }
   ],
   "source": [
    "master_func_bracket_pairs = list()\n",
    "\n",
    "# for i in range(len(bracket_pairs)):\n",
    "#     # print(bracket_pairs[i])\n",
    "#     for func in integrations:\n",
    "#         if func > bracket_pairs[i][0] and func < bracket_pairs[i+1][0]:\n",
    "#             ignore_bracket_pairs.append(bracket_pairs[i+2])\n",
    "\n",
    "for i in range(len(sorted_bracket_pairs)):\n",
    "    # print(bracket_pairs[i])\n",
    "    for func in integrations:\n",
    "        if func > sorted_bracket_pairs[i][0] and func < sorted_bracket_pairs[i+1][0]:\n",
    "            master_func_bracket_pairs.append(sorted_bracket_pairs[i+1])\n",
    "\n",
    "print(master_func_bracket_pairs)"
   ]
  },
  {
   "cell_type": "code",
   "execution_count": 39,
   "metadata": {},
   "outputs": [
    {
     "data": {
      "text/plain": "'eq.append(\"Eq(w,integrate(C*v,(v,v0,v1))-integrate(C*v,(v,v0,v1)))\")'"
     },
     "execution_count": 39,
     "metadata": {},
     "output_type": "execute_result"
    }
   ],
   "source": [
    "expr"
   ]
  },
  {
   "cell_type": "code",
   "execution_count": 51,
   "metadata": {},
   "outputs": [
    {
     "name": "stdout",
     "output_type": "stream",
     "text": "(C*v,(v,v0,v1))\n(C*v,(v,v0,v1))\n"
    }
   ],
   "source": [
    "print(expr[master_func_bracket_pairs[0][0]:master_func_bracket_pairs[0][1]+1])\n",
    "print(expr[master_func_bracket_pairs[1][0]:master_func_bracket_pairs[1][1]+1])"
   ]
  },
  {
   "cell_type": "code",
   "execution_count": null,
   "metadata": {},
   "outputs": [],
   "source": [
    "# Needs to be comma sensitive"
   ]
  }
 ]
}